{
 "cells": [
  {
   "cell_type": "markdown",
   "metadata": {},
   "source": [
    "# By liulu"
   ]
  },
  {
   "cell_type": "markdown",
   "metadata": {
    "collapsed": true
   },
   "source": [
    "# ------------------------------------第十章 Python标准库-------------------------------------------"
   ]
  },
  {
   "cell_type": "markdown",
   "metadata": {},
   "source": [
    "## 1.time库\n",
    "Python处理时间的标准库"
   ]
  },
  {
   "cell_type": "markdown",
   "metadata": {},
   "source": [
    "### 1.1 获取现在的时间\n",
    "time.localtime() 本地时间\n",
    "\n",
    "time.gmtime() UTC世界统一时间\n",
    "\n",
    "北京时间比UTC时间统一时间早8个小时"
   ]
  },
  {
   "cell_type": "code",
   "execution_count": 1,
   "metadata": {},
   "outputs": [
    {
     "name": "stdout",
     "output_type": "stream",
     "text": [
      "t_local time.struct_time(tm_year=2020, tm_mon=8, tm_mday=5, tm_hour=16, tm_min=19, tm_sec=31, tm_wday=2, tm_yday=218, tm_isdst=0)\n",
      "t_utc time.struct_time(tm_year=2020, tm_mon=8, tm_mday=5, tm_hour=8, tm_min=19, tm_sec=31, tm_wday=2, tm_yday=218, tm_isdst=0)\n"
     ]
    }
   ],
   "source": [
    "import time\n",
    "\n",
    "t_local = time.localtime()\n",
    "t_utc = time.gmtime()\n",
    "\n",
    "print(\"t_local\",t_local)\n",
    "print(\"t_utc\",t_utc)"
   ]
  },
  {
   "cell_type": "code",
   "execution_count": 2,
   "metadata": {},
   "outputs": [
    {
     "data": {
      "text/plain": [
       "'Wed Aug  5 16:20:16 2020'"
      ]
     },
     "execution_count": 2,
     "metadata": {},
     "output_type": "execute_result"
    }
   ],
   "source": [
    "time.ctime() #返回本地时间的字符串"
   ]
  },
  {
   "cell_type": "markdown",
   "metadata": {},
   "source": [
    "### 1.2 时间戳与计时器\n",
    "（1）time.time() 返回自纪元以来的秒数，记录sleep\n",
    "\n",
    "（2）time.perf_counter() 随意选取一个时间点，记录现在时间到该时间点的间隔秒数，记录sleep\n",
    "\n",
    "（3）time.process_time() 随意选取一个时间点，记录现在时间到该时间点的间隔秒数，不记录sleep"
   ]
  },
  {
   "cell_type": "code",
   "execution_count": 8,
   "metadata": {},
   "outputs": [
    {
     "name": "stdout",
     "output_type": "stream",
     "text": [
      "time方法：5.002秒\n",
      "perf_counter方法：5.002秒\n",
      "process_time方法：0.000秒\n"
     ]
    }
   ],
   "source": [
    "t_1_start = time.time()\n",
    "t_2_start = time.perf_counter()\n",
    "t_3_start = time.process_time()\n",
    "\n",
    "res = 0\n",
    "for i in range(10000):\n",
    "    res += 1\n",
    "\n",
    "time.sleep(5)\n",
    "\n",
    "t_1_end = time.time()\n",
    "t_2_end = time.perf_counter()\n",
    "t_3_end = time.process_time()\n",
    "\n",
    "print(\"time方法：{:.3f}秒\".format(t_1_end-t_1_start))\n",
    "print(\"perf_counter方法：{:.3f}秒\".format(t_2_end-t_2_start))\n",
    "print(\"process_time方法：{:.3f}秒\".format(t_3_end-t_3_start))\n"
   ]
  },
  {
   "cell_type": "markdown",
   "metadata": {},
   "source": [
    "### 1.3 格式化\n",
    "time.strftime()自定义格式化输出"
   ]
  },
  {
   "cell_type": "code",
   "execution_count": 9,
   "metadata": {},
   "outputs": [
    {
     "data": {
      "text/plain": [
       "'2020-08-05 Wednesday 16:33:28'"
      ]
     },
     "execution_count": 9,
     "metadata": {},
     "output_type": "execute_result"
    }
   ],
   "source": [
    "lctime = time.localtime()\n",
    "time.strftime(\"%Y-%m-%d %A %H:%M:%S\",lctime)"
   ]
  },
  {
   "cell_type": "markdown",
   "metadata": {},
   "source": [
    "### 1.4 睡觉"
   ]
  },
  {
   "cell_type": "code",
   "execution_count": null,
   "metadata": {
    "collapsed": true
   },
   "outputs": [],
   "source": [
    "time.sleep()"
   ]
  },
  {
   "cell_type": "markdown",
   "metadata": {},
   "source": [
    "## 2.random库"
   ]
  },
  {
   "cell_type": "markdown",
   "metadata": {},
   "source": [
    "### 2.1 随机种子----seed(a=None)\n",
    "（1）相同的种子会产生相同的随机数\n",
    "\n",
    "（2）如果不设置随机种子，以系统当前时间为默认值"
   ]
  },
  {
   "cell_type": "code",
   "execution_count": 10,
   "metadata": {},
   "outputs": [
    {
     "name": "stdout",
     "output_type": "stream",
     "text": [
      "0.5714025946899135\n",
      "0.5714025946899135\n"
     ]
    }
   ],
   "source": [
    "from random import *\n",
    "\n",
    "seed(10)\n",
    "print(random())\n",
    "seed(10)\n",
    "print(random())"
   ]
  },
  {
   "cell_type": "code",
   "execution_count": 12,
   "metadata": {},
   "outputs": [
    {
     "name": "stdout",
     "output_type": "stream",
     "text": [
      "0.5780913011344704\n"
     ]
    }
   ],
   "source": [
    "print(random())"
   ]
  },
  {
   "cell_type": "markdown",
   "metadata": {},
   "source": [
    "### 2.2 产生随机整数\n",
    "（1）randint(a,b) 产生[a,b）之间的随机整数"
   ]
  },
  {
   "cell_type": "code",
   "execution_count": 13,
   "metadata": {},
   "outputs": [
    {
     "data": {
      "text/plain": [
       "[4, 8, 8, 5, 3, 1, 9, 8, 6, 2]"
      ]
     },
     "execution_count": 13,
     "metadata": {},
     "output_type": "execute_result"
    }
   ],
   "source": [
    "numbers = [randint(1,10) for i in range(10)]\n",
    "numbers"
   ]
  },
  {
   "cell_type": "markdown",
   "metadata": {},
   "source": [
    "（2）randrange(a)  产生[0,a)之间的随机整数"
   ]
  },
  {
   "cell_type": "markdown",
   "metadata": {},
   "source": [
    "（3）randrange(a,b,step)  产生[a,b)之间以step为步长的随机整数"
   ]
  },
  {
   "cell_type": "markdown",
   "metadata": {},
   "source": [
    "### 2.3 产生随机浮点数"
   ]
  },
  {
   "cell_type": "markdown",
   "metadata": {},
   "source": [
    "（1）random()  产生[0.0,1.0)之间的随机浮点数\n",
    "\n",
    "（2）uniform(a,b)  产生[a,b)之间的随机浮点数"
   ]
  },
  {
   "cell_type": "markdown",
   "metadata": {},
   "source": [
    "### 2.4 序列用函数\n"
   ]
  },
  {
   "cell_type": "markdown",
   "metadata": {},
   "source": [
    "（1）choice(seq)  从序列类型中随机返回一个元素"
   ]
  },
  {
   "cell_type": "code",
   "execution_count": 14,
   "metadata": {},
   "outputs": [
    {
     "data": {
      "text/plain": [
       "'win'"
      ]
     },
     "execution_count": 14,
     "metadata": {},
     "output_type": "execute_result"
    }
   ],
   "source": [
    "choice(['win','lose','draw'])"
   ]
  },
  {
   "cell_type": "code",
   "execution_count": 15,
   "metadata": {},
   "outputs": [
    {
     "data": {
      "text/plain": [
       "'n'"
      ]
     },
     "execution_count": 15,
     "metadata": {},
     "output_type": "execute_result"
    }
   ],
   "source": [
    "choice(\"Python\")"
   ]
  },
  {
   "cell_type": "markdown",
   "metadata": {},
   "source": [
    "（2）choices(seq.weights=None,k)  对序列类型进行k次重复采样，可设置权重"
   ]
  },
  {
   "cell_type": "code",
   "execution_count": 16,
   "metadata": {},
   "outputs": [
    {
     "data": {
      "text/plain": [
       "['draw', 'win', 'draw', 'lose', 'lose']"
      ]
     },
     "execution_count": 16,
     "metadata": {},
     "output_type": "execute_result"
    }
   ],
   "source": [
    "choices(['win','lose','draw'],k=5)"
   ]
  },
  {
   "cell_type": "code",
   "execution_count": 18,
   "metadata": {},
   "outputs": [
    {
     "data": {
      "text/plain": [
       "['win', 'lose', 'lose', 'lose', 'lose', 'win', 'lose', 'draw', 'draw', 'lose']"
      ]
     },
     "execution_count": 18,
     "metadata": {},
     "output_type": "execute_result"
    }
   ],
   "source": [
    "choices(['win','lose','draw'],[4,4,2],k=10)"
   ]
  },
  {
   "cell_type": "markdown",
   "metadata": {},
   "source": [
    "（3）shuffle(seq)  将序列类型中元素随机排列，返回打乱后的序列"
   ]
  },
  {
   "cell_type": "code",
   "execution_count": 19,
   "metadata": {},
   "outputs": [
    {
     "data": {
      "text/plain": [
       "['two', 'four', 'three', 'one']"
      ]
     },
     "execution_count": 19,
     "metadata": {},
     "output_type": "execute_result"
    }
   ],
   "source": [
    "numbers = [\"one\",\"two\",\"three\",\"four\"]\n",
    "shuffle(numbers)\n",
    "numbers"
   ]
  },
  {
   "cell_type": "markdown",
   "metadata": {},
   "source": [
    "（4）sample(pop,k)  从pop类型中随机选取k个元素，以列表类型返回"
   ]
  },
  {
   "cell_type": "code",
   "execution_count": 20,
   "metadata": {},
   "outputs": [
    {
     "data": {
      "text/plain": [
       "[20, 50, 10]"
      ]
     },
     "execution_count": 20,
     "metadata": {},
     "output_type": "execute_result"
    }
   ],
   "source": [
    "sample([10, 20, 30, 40, 50],k=3)"
   ]
  },
  {
   "cell_type": "markdown",
   "metadata": {},
   "source": [
    "### 2.5 概率分布----以高斯分布为例\n",
    "gauss(mean,std)----产生一个符合高斯分布的随机数"
   ]
  },
  {
   "cell_type": "code",
   "execution_count": 21,
   "metadata": {},
   "outputs": [
    {
     "data": {
      "text/plain": [
       "0.7917381338804127"
      ]
     },
     "execution_count": 21,
     "metadata": {},
     "output_type": "execute_result"
    }
   ],
   "source": [
    "number = gauss(0,1)\n",
    "number"
   ]
  },
  {
   "cell_type": "code",
   "execution_count": 22,
   "metadata": {},
   "outputs": [
    {
     "data": {
      "image/png": "[encoded data removed]",
      "text/plain": [
       "<matplotlib.figure.Figure at 0x2b7f4cfacf8>"
      ]
     },
     "metadata": {},
     "output_type": "display_data"
    }
   ],
   "source": [
    "import matplotlib.pyplot as plt\n",
    "\n",
    "res = [gauss(0,1) for i in range(100000)]\n",
    "\n",
    "plt.hist(res, bins=1000)\n",
    "plt.show()"
   ]
  },
  {
   "cell_type": "code",
   "execution_count": 25,
   "metadata": {},
   "outputs": [
    {
     "name": "stdout",
     "output_type": "stream",
     "text": [
      "0123456789\n",
      "abcdefghijklmnopqrstuvwxyzABCDEFGHIJKLMNOPQRSTUVWXYZ\n",
      "['5', 'n', 'F', 'v']\n",
      "5nFv\n"
     ]
    }
   ],
   "source": [
    "# 例：生产4位由数字和英文字母构成的验证码\n",
    "\n",
    "import random\n",
    "import string\n",
    "\n",
    "print(string.digits)\n",
    "print(string.ascii_letters)\n",
    "\n",
    "s = string.digits + string.ascii_letters\n",
    "v = random.sample(s,4)\n",
    "\n",
    "print(v)\n",
    "print(''.join(v))"
   ]
  },
  {
   "cell_type": "markdown",
   "metadata": {
    "collapsed": true
   },
   "source": [
    "## 3.collections库----容器数据类型"
   ]
  },
  {
   "cell_type": "markdown",
   "metadata": {},
   "source": [
    "### 3.1 namedtuple----具名元组\n",
    "定义方法如下：typename是元组名字，field_names是域名"
   ]
  },
  {
   "cell_type": "code",
   "execution_count": null,
   "metadata": {
    "collapsed": true
   },
   "outputs": [],
   "source": [
    "collections.namedtuple(typenamed,field_names, *,rename=False,default=None,module=None)"
   ]
  },
  {
   "cell_type": "code",
   "execution_count": 4,
   "metadata": {},
   "outputs": [
    {
     "data": {
      "text/plain": [
       "Point(x=1, y=2)"
      ]
     },
     "execution_count": 4,
     "metadata": {},
     "output_type": "execute_result"
    }
   ],
   "source": [
    "import collections\n",
    "\n",
    "Point = collections.namedtuple(\"Point\", [\"x\",\"y\"])   #定义一个坐标点\n",
    "p = Point(1,2)\n",
    "p"
   ]
  },
  {
   "cell_type": "markdown",
   "metadata": {},
   "source": [
    "#### （1）可以调用属性"
   ]
  },
  {
   "cell_type": "code",
   "execution_count": 5,
   "metadata": {},
   "outputs": [
    {
     "name": "stdout",
     "output_type": "stream",
     "text": [
      "1\n",
      "2\n"
     ]
    }
   ],
   "source": [
    "print(p.x)\n",
    "print(p.y)"
   ]
  },
  {
   "cell_type": "markdown",
   "metadata": {},
   "source": [
    "#### （2）有元组的性质"
   ]
  },
  {
   "cell_type": "code",
   "execution_count": 6,
   "metadata": {},
   "outputs": [
    {
     "name": "stdout",
     "output_type": "stream",
     "text": [
      "1\n",
      "2\n",
      "1\n",
      "2\n"
     ]
    }
   ],
   "source": [
    "print(p[0])\n",
    "print(p[1])\n",
    "x, y = p\n",
    "print(x)\n",
    "print(y)"
   ]
  },
  {
   "cell_type": "markdown",
   "metadata": {},
   "source": [
    "#### （3）确实是元组的子类"
   ]
  },
  {
   "cell_type": "code",
   "execution_count": 7,
   "metadata": {},
   "outputs": [
    {
     "name": "stdout",
     "output_type": "stream",
     "text": [
      "True\n"
     ]
    }
   ],
   "source": [
    "print(isinstance(p,tuple))"
   ]
  },
  {
   "cell_type": "markdown",
   "metadata": {},
   "source": [
    "#### 例：模拟扑克牌"
   ]
  },
  {
   "cell_type": "code",
   "execution_count": 10,
   "metadata": {},
   "outputs": [
    {
     "name": "stdout",
     "output_type": "stream",
     "text": [
      "ranks ['2', '3', '4', '5', '6', '7', '8', '9', '10', 'J', 'Q', 'K', 'A']\n",
      "suits ['spades', 'diamonds', 'clubs', 'hearts']\n"
     ]
    },
    {
     "data": {
      "text/plain": [
       "[Card(rank='2', suit='spades'),\n",
       " Card(rank='2', suit='diamonds'),\n",
       " Card(rank='2', suit='clubs'),\n",
       " Card(rank='2', suit='hearts'),\n",
       " Card(rank='3', suit='spades'),\n",
       " Card(rank='3', suit='diamonds'),\n",
       " Card(rank='3', suit='clubs'),\n",
       " Card(rank='3', suit='hearts'),\n",
       " Card(rank='4', suit='spades'),\n",
       " Card(rank='4', suit='diamonds'),\n",
       " Card(rank='4', suit='clubs'),\n",
       " Card(rank='4', suit='hearts'),\n",
       " Card(rank='5', suit='spades'),\n",
       " Card(rank='5', suit='diamonds'),\n",
       " Card(rank='5', suit='clubs'),\n",
       " Card(rank='5', suit='hearts'),\n",
       " Card(rank='6', suit='spades'),\n",
       " Card(rank='6', suit='diamonds'),\n",
       " Card(rank='6', suit='clubs'),\n",
       " Card(rank='6', suit='hearts'),\n",
       " Card(rank='7', suit='spades'),\n",
       " Card(rank='7', suit='diamonds'),\n",
       " Card(rank='7', suit='clubs'),\n",
       " Card(rank='7', suit='hearts'),\n",
       " Card(rank='8', suit='spades'),\n",
       " Card(rank='8', suit='diamonds'),\n",
       " Card(rank='8', suit='clubs'),\n",
       " Card(rank='8', suit='hearts'),\n",
       " Card(rank='9', suit='spades'),\n",
       " Card(rank='9', suit='diamonds'),\n",
       " Card(rank='9', suit='clubs'),\n",
       " Card(rank='9', suit='hearts'),\n",
       " Card(rank='10', suit='spades'),\n",
       " Card(rank='10', suit='diamonds'),\n",
       " Card(rank='10', suit='clubs'),\n",
       " Card(rank='10', suit='hearts'),\n",
       " Card(rank='J', suit='spades'),\n",
       " Card(rank='J', suit='diamonds'),\n",
       " Card(rank='J', suit='clubs'),\n",
       " Card(rank='J', suit='hearts'),\n",
       " Card(rank='Q', suit='spades'),\n",
       " Card(rank='Q', suit='diamonds'),\n",
       " Card(rank='Q', suit='clubs'),\n",
       " Card(rank='Q', suit='hearts'),\n",
       " Card(rank='K', suit='spades'),\n",
       " Card(rank='K', suit='diamonds'),\n",
       " Card(rank='K', suit='clubs'),\n",
       " Card(rank='K', suit='hearts'),\n",
       " Card(rank='A', suit='spades'),\n",
       " Card(rank='A', suit='diamonds'),\n",
       " Card(rank='A', suit='clubs'),\n",
       " Card(rank='A', suit='hearts')]"
      ]
     },
     "execution_count": 10,
     "metadata": {},
     "output_type": "execute_result"
    }
   ],
   "source": [
    "import collections\n",
    "Card = collections.namedtuple(\"Card\",[\"rank\",\"suit\"])\n",
    "ranks = [str(n) for n in range(2,11)] + list(\"JQKA\")\n",
    "suits = \"spades diamonds clubs hearts\".split(\" \")\n",
    "print(\"ranks\",ranks)\n",
    "print(\"suits\",suits)\n",
    "\n",
    "cards = [Card(rank, suit) for rank in ranks for suit in suits]\n",
    "cards"
   ]
  },
  {
   "cell_type": "code",
   "execution_count": 11,
   "metadata": {},
   "outputs": [
    {
     "data": {
      "text/plain": [
       "[Card(rank='9', suit='hearts'),\n",
       " Card(rank='J', suit='diamonds'),\n",
       " Card(rank='K', suit='spades'),\n",
       " Card(rank='J', suit='hearts'),\n",
       " Card(rank='3', suit='clubs'),\n",
       " Card(rank='2', suit='spades'),\n",
       " Card(rank='3', suit='spades'),\n",
       " Card(rank='4', suit='hearts'),\n",
       " Card(rank='K', suit='hearts'),\n",
       " Card(rank='A', suit='diamonds'),\n",
       " Card(rank='J', suit='spades'),\n",
       " Card(rank='Q', suit='diamonds'),\n",
       " Card(rank='K', suit='diamonds'),\n",
       " Card(rank='7', suit='hearts'),\n",
       " Card(rank='K', suit='clubs'),\n",
       " Card(rank='10', suit='clubs'),\n",
       " Card(rank='Q', suit='hearts'),\n",
       " Card(rank='8', suit='spades'),\n",
       " Card(rank='A', suit='hearts'),\n",
       " Card(rank='5', suit='hearts'),\n",
       " Card(rank='6', suit='clubs'),\n",
       " Card(rank='4', suit='spades'),\n",
       " Card(rank='A', suit='spades'),\n",
       " Card(rank='7', suit='diamonds'),\n",
       " Card(rank='3', suit='diamonds'),\n",
       " Card(rank='10', suit='spades'),\n",
       " Card(rank='7', suit='clubs'),\n",
       " Card(rank='Q', suit='clubs'),\n",
       " Card(rank='9', suit='spades'),\n",
       " Card(rank='4', suit='diamonds'),\n",
       " Card(rank='6', suit='hearts'),\n",
       " Card(rank='9', suit='clubs'),\n",
       " Card(rank='8', suit='diamonds'),\n",
       " Card(rank='4', suit='clubs'),\n",
       " Card(rank='2', suit='hearts'),\n",
       " Card(rank='6', suit='diamonds'),\n",
       " Card(rank='8', suit='clubs'),\n",
       " Card(rank='10', suit='diamonds'),\n",
       " Card(rank='A', suit='clubs'),\n",
       " Card(rank='6', suit='spades'),\n",
       " Card(rank='9', suit='diamonds'),\n",
       " Card(rank='2', suit='clubs'),\n",
       " Card(rank='Q', suit='spades'),\n",
       " Card(rank='2', suit='diamonds'),\n",
       " Card(rank='3', suit='hearts'),\n",
       " Card(rank='5', suit='diamonds'),\n",
       " Card(rank='8', suit='hearts'),\n",
       " Card(rank='5', suit='clubs'),\n",
       " Card(rank='J', suit='clubs'),\n",
       " Card(rank='5', suit='spades'),\n",
       " Card(rank='10', suit='hearts'),\n",
       " Card(rank='7', suit='spades')]"
      ]
     },
     "execution_count": 11,
     "metadata": {},
     "output_type": "execute_result"
    }
   ],
   "source": [
    "from random import *\n",
    "\n",
    "#洗牌\n",
    "shuffle(cards)\n",
    "cards"
   ]
  },
  {
   "cell_type": "code",
   "execution_count": 12,
   "metadata": {},
   "outputs": [
    {
     "data": {
      "text/plain": [
       "Card(rank='2', suit='hearts')"
      ]
     },
     "execution_count": 12,
     "metadata": {},
     "output_type": "execute_result"
    }
   ],
   "source": [
    "#随机抽取一张牌\n",
    "choice(cards)"
   ]
  },
  {
   "cell_type": "code",
   "execution_count": 18,
   "metadata": {},
   "outputs": [
    {
     "data": {
      "text/plain": [
       "[Card(rank='8', suit='hearts'),\n",
       " Card(rank='3', suit='clubs'),\n",
       " Card(rank='Q', suit='diamonds'),\n",
       " Card(rank='K', suit='clubs'),\n",
       " Card(rank='9', suit='hearts'),\n",
       " Card(rank='7', suit='clubs'),\n",
       " Card(rank='5', suit='hearts'),\n",
       " Card(rank='4', suit='diamonds'),\n",
       " Card(rank='Q', suit='clubs'),\n",
       " Card(rank='10', suit='clubs')]"
      ]
     },
     "execution_count": 18,
     "metadata": {},
     "output_type": "execute_result"
    }
   ],
   "source": [
    "#s随机抽取多张牌\n",
    "sample(cards,k=10)"
   ]
  },
  {
   "cell_type": "markdown",
   "metadata": {},
   "source": [
    "### 3.2 Counter----计数器工具"
   ]
  },
  {
   "cell_type": "code",
   "execution_count": 20,
   "metadata": {
    "collapsed": true
   },
   "outputs": [],
   "source": [
    "from collections import Counter"
   ]
  },
  {
   "cell_type": "code",
   "execution_count": 21,
   "metadata": {},
   "outputs": [
    {
     "name": "stdout",
     "output_type": "stream",
     "text": [
      "Counter({'奶': 5, '牛': 2, '找': 1, '刘': 1, '买': 1})\n"
     ]
    }
   ],
   "source": [
    "s = \"牛奶奶找刘奶奶买牛奶\"\n",
    "cnt_str = Counter(s)\n",
    "print(cnt_str)"
   ]
  },
  {
   "cell_type": "markdown",
   "metadata": {},
   "source": [
    "#### （1）是字典的一个类"
   ]
  },
  {
   "cell_type": "code",
   "execution_count": 22,
   "metadata": {},
   "outputs": [
    {
     "name": "stdout",
     "output_type": "stream",
     "text": [
      "True\n"
     ]
    }
   ],
   "source": [
    "print(isinstance(Counter(),dict))"
   ]
  },
  {
   "cell_type": "markdown",
   "metadata": {},
   "source": [
    "#### （2）最常见的统计----most_common(n)\n",
    "提供n个频率最高的元素和计数"
   ]
  },
  {
   "cell_type": "code",
   "execution_count": 23,
   "metadata": {},
   "outputs": [
    {
     "data": {
      "text/plain": [
       "[('奶', 5), ('牛', 2), ('找', 1)]"
      ]
     },
     "execution_count": 23,
     "metadata": {},
     "output_type": "execute_result"
    }
   ],
   "source": [
    "cnt_str.most_common(3)"
   ]
  },
  {
   "cell_type": "markdown",
   "metadata": {},
   "source": [
    "#### （3）元素展开----elements()"
   ]
  },
  {
   "cell_type": "code",
   "execution_count": 25,
   "metadata": {},
   "outputs": [
    {
     "data": {
      "text/plain": [
       "['牛', '牛', '奶', '奶', '奶', '奶', '奶', '找', '刘', '买']"
      ]
     },
     "execution_count": 25,
     "metadata": {},
     "output_type": "execute_result"
    }
   ],
   "source": [
    "list(cnt_str.elements())"
   ]
  },
  {
   "cell_type": "markdown",
   "metadata": {},
   "source": [
    "#### 例：从一副牌中抽取10张，大于10的比例有多少"
   ]
  },
  {
   "cell_type": "code",
   "execution_count": 28,
   "metadata": {},
   "outputs": [
    {
     "name": "stdout",
     "output_type": "stream",
     "text": [
      "['low_cards', 'low_cards', 'tens', 'low_cards', 'tens', 'low_cards', 'tens', 'low_cards', 'tens', 'low_cards']\n"
     ]
    }
   ],
   "source": [
    "cards = collections.Counter(tens = 16,low_cards = 36)\n",
    "seen = sample(list(cards.elements()),k = 10)\n",
    "print(seen)"
   ]
  },
  {
   "cell_type": "code",
   "execution_count": 29,
   "metadata": {},
   "outputs": [
    {
     "data": {
      "text/plain": [
       "0.4"
      ]
     },
     "execution_count": 29,
     "metadata": {},
     "output_type": "execute_result"
    }
   ],
   "source": [
    "seen.count(\"tens\")/10"
   ]
  },
  {
   "cell_type": "markdown",
   "metadata": {},
   "source": [
    "### 3.3 deque----双向队列"
   ]
  },
  {
   "cell_type": "markdown",
   "metadata": {},
   "source": [
    "#### 双向队列可以方便的在队列两边高效、快速的增加和删除元素"
   ]
  },
  {
   "cell_type": "code",
   "execution_count": 30,
   "metadata": {},
   "outputs": [
    {
     "data": {
      "text/plain": [
       "deque(['c', 'd', 'e'])"
      ]
     },
     "execution_count": 30,
     "metadata": {},
     "output_type": "execute_result"
    }
   ],
   "source": [
    "from collections import deque\n",
    "\n",
    "d = deque(\"cde\")\n",
    "d"
   ]
  },
  {
   "cell_type": "code",
   "execution_count": 31,
   "metadata": {},
   "outputs": [
    {
     "data": {
      "text/plain": [
       "deque(['b', 'c', 'd', 'e', 'f'])"
      ]
     },
     "execution_count": 31,
     "metadata": {},
     "output_type": "execute_result"
    }
   ],
   "source": [
    "d.append(\"f\")  #右端增加\n",
    "d.appendleft(\"b\")  #左端增加\n",
    "d"
   ]
  },
  {
   "cell_type": "code",
   "execution_count": 35,
   "metadata": {},
   "outputs": [
    {
     "data": {
      "text/plain": [
       "deque(['d'])"
      ]
     },
     "execution_count": 35,
     "metadata": {},
     "output_type": "execute_result"
    }
   ],
   "source": [
    "d = deque(\"cde\")\n",
    "d.pop()  #右端删除\n",
    "d.popleft()  # 左端删除\n",
    "d"
   ]
  },
  {
   "cell_type": "markdown",
   "metadata": {},
   "source": [
    "## 4.itertools库----迭代器\n",
    "### 4.1 排列组合迭代器"
   ]
  },
  {
   "cell_type": "markdown",
   "metadata": {},
   "source": [
    "#### （1）product----笛卡尔积"
   ]
  },
  {
   "cell_type": "code",
   "execution_count": 36,
   "metadata": {},
   "outputs": [
    {
     "name": "stdout",
     "output_type": "stream",
     "text": [
      "('A', '0')\n",
      "('A', '1')\n",
      "('B', '0')\n",
      "('B', '1')\n",
      "('C', '0')\n",
      "('C', '1')\n"
     ]
    }
   ],
   "source": [
    "import itertools\n",
    "\n",
    "for i in itertools.product('ABC', '01'):\n",
    "    print(i)"
   ]
  },
  {
   "cell_type": "code",
   "execution_count": 38,
   "metadata": {},
   "outputs": [
    {
     "data": {
      "text/plain": [
       "[('A', '0'), ('A', '1'), ('B', '0'), ('B', '1'), ('C', '0'), ('C', '1')]"
      ]
     },
     "execution_count": 38,
     "metadata": {},
     "output_type": "execute_result"
    }
   ],
   "source": [
    "list(itertools.product('ABC', '01'))"
   ]
  },
  {
   "cell_type": "code",
   "execution_count": 39,
   "metadata": {
    "collapsed": true
   },
   "outputs": [],
   "source": [
    "import itertools\n",
    "\n",
    "#for i in itertools.product('ABC', repeat = 3):\n",
    "   # print(i)"
   ]
  },
  {
   "cell_type": "markdown",
   "metadata": {},
   "source": [
    "#### （2）permutations----排列"
   ]
  },
  {
   "cell_type": "code",
   "execution_count": 40,
   "metadata": {},
   "outputs": [
    {
     "name": "stdout",
     "output_type": "stream",
     "text": [
      "('A', 'B', 'C')\n",
      "('A', 'B', 'D')\n",
      "('A', 'C', 'B')\n",
      "('A', 'C', 'D')\n",
      "('A', 'D', 'B')\n",
      "('A', 'D', 'C')\n",
      "('B', 'A', 'C')\n",
      "('B', 'A', 'D')\n",
      "('B', 'C', 'A')\n",
      "('B', 'C', 'D')\n",
      "('B', 'D', 'A')\n",
      "('B', 'D', 'C')\n",
      "('C', 'A', 'B')\n",
      "('C', 'A', 'D')\n",
      "('C', 'B', 'A')\n",
      "('C', 'B', 'D')\n",
      "('C', 'D', 'A')\n",
      "('C', 'D', 'B')\n",
      "('D', 'A', 'B')\n",
      "('D', 'A', 'C')\n",
      "('D', 'B', 'A')\n",
      "('D', 'B', 'C')\n",
      "('D', 'C', 'A')\n",
      "('D', 'C', 'B')\n"
     ]
    }
   ],
   "source": [
    "for i in itertools.permutations(\"ABCD\",3):\n",
    "    print(i)"
   ]
  },
  {
   "cell_type": "code",
   "execution_count": 41,
   "metadata": {},
   "outputs": [
    {
     "name": "stdout",
     "output_type": "stream",
     "text": [
      "(0, 1, 2)\n",
      "(0, 2, 1)\n",
      "(1, 0, 2)\n",
      "(1, 2, 0)\n",
      "(2, 0, 1)\n",
      "(2, 1, 0)\n"
     ]
    }
   ],
   "source": [
    "for i in itertools.permutations(range(3)):\n",
    "    print(i)"
   ]
  },
  {
   "cell_type": "markdown",
   "metadata": {},
   "source": [
    "#### （3）combinations----组合"
   ]
  },
  {
   "cell_type": "code",
   "execution_count": 43,
   "metadata": {},
   "outputs": [
    {
     "name": "stdout",
     "output_type": "stream",
     "text": [
      "('A', 'B')\n",
      "('A', 'C')\n",
      "('A', 'D')\n",
      "('B', 'C')\n",
      "('B', 'D')\n",
      "('C', 'D')\n"
     ]
    }
   ],
   "source": [
    "for i in itertools.combinations(\"ABCD\",2):  #2是组合的长度\n",
    "    print(i)\n"
   ]
  },
  {
   "cell_type": "code",
   "execution_count": 51,
   "metadata": {},
   "outputs": [
    {
     "name": "stdout",
     "output_type": "stream",
     "text": [
      "(0, 1, 2)\n",
      "(0, 1, 3)\n",
      "(0, 2, 3)\n",
      "(1, 2, 3)\n"
     ]
    }
   ],
   "source": [
    "for i in itertools.combinations(range(4),3):  #这里的3不可省\n",
    "    print(i)"
   ]
  },
  {
   "cell_type": "markdown",
   "metadata": {},
   "source": [
    "#### （4）combinations_with_replacement----元素可重复组合"
   ]
  },
  {
   "cell_type": "code",
   "execution_count": 52,
   "metadata": {},
   "outputs": [
    {
     "name": "stdout",
     "output_type": "stream",
     "text": [
      "('A', 'A')\n",
      "('A', 'B')\n",
      "('A', 'C')\n",
      "('B', 'B')\n",
      "('B', 'C')\n",
      "('C', 'C')\n"
     ]
    }
   ],
   "source": [
    "for i in itertools.combinations_with_replacement(\"ABC\",2): \n",
    "    print(i)"
   ]
  },
  {
   "cell_type": "code",
   "execution_count": 53,
   "metadata": {},
   "outputs": [
    {
     "name": "stdout",
     "output_type": "stream",
     "text": [
      "('A', 'A')\n",
      "('A', 'B')\n",
      "('A', 'C')\n",
      "('B', 'A')\n",
      "('B', 'B')\n",
      "('B', 'C')\n",
      "('C', 'A')\n",
      "('C', 'B')\n",
      "('C', 'C')\n"
     ]
    }
   ],
   "source": [
    "for i in itertools.product(\"ABC\",repeat=2):\n",
    "    print(i)"
   ]
  },
  {
   "cell_type": "markdown",
   "metadata": {},
   "source": [
    "### 4.2 拉链"
   ]
  },
  {
   "cell_type": "markdown",
   "metadata": {},
   "source": [
    "#### （1）zip----短拉链"
   ]
  },
  {
   "cell_type": "code",
   "execution_count": 55,
   "metadata": {},
   "outputs": [
    {
     "name": "stdout",
     "output_type": "stream",
     "text": [
      "('A', '0', 'x')\n",
      "('B', '1', 'y')\n",
      "('C', '2', 'z')\n"
     ]
    }
   ],
   "source": [
    "for i in zip(\"ABC\",\"012\",\"xyz\"):\n",
    "    print(i)"
   ]
  },
  {
   "cell_type": "markdown",
   "metadata": {},
   "source": [
    "#### 长度不一致时，执行到最短的对象处就停止"
   ]
  },
  {
   "cell_type": "code",
   "execution_count": 56,
   "metadata": {},
   "outputs": [
    {
     "name": "stdout",
     "output_type": "stream",
     "text": [
      "('A', '0')\n",
      "('B', '1')\n",
      "('C', '2')\n"
     ]
    }
   ],
   "source": [
    "for i in zip(\"ABC\",\"012345\"):\n",
    "    print(i)"
   ]
  },
  {
   "cell_type": "markdown",
   "metadata": {},
   "source": [
    "#### （2）zip_longest----长拉链"
   ]
  },
  {
   "cell_type": "code",
   "execution_count": 59,
   "metadata": {},
   "outputs": [
    {
     "name": "stdout",
     "output_type": "stream",
     "text": [
      "('A', '0')\n",
      "('B', '1')\n",
      "('C', '2')\n",
      "(None, '3')\n",
      "(None, '4')\n",
      "(None, '5')\n"
     ]
    }
   ],
   "source": [
    "for i in itertools.zip_longest(\"ABC\",\"012345\"):\n",
    "    print(i)"
   ]
  },
  {
   "cell_type": "markdown",
   "metadata": {},
   "source": [
    "### 4.3 无穷迭代器"
   ]
  },
  {
   "cell_type": "markdown",
   "metadata": {},
   "source": [
    "#### （1）count(start=0,step=1)----计数\n",
    "创建一个迭代器，它从start值开始，返回均匀间隔的值"
   ]
  },
  {
   "cell_type": "markdown",
   "metadata": {
    "collapsed": true
   },
   "source": [
    "#### （2）cycle(iterable)----循环\n",
    "创建一个迭代器。返回iterable中的所有元素，无限重复"
   ]
  },
  {
   "cell_type": "markdown",
   "metadata": {},
   "source": [
    "#### （3）repeat(object,times)----重复\n",
    "创建一个迭代器，不断重复object，除非设定参数times，否则将无线重复"
   ]
  },
  {
   "cell_type": "markdown",
   "metadata": {},
   "source": [
    "### 4.4 其他"
   ]
  },
  {
   "cell_type": "markdown",
   "metadata": {},
   "source": [
    "#### （1）chain(iterables)----锁链\n",
    "把一组迭代对象串联起来，形成一个更大的迭代器"
   ]
  },
  {
   "cell_type": "code",
   "execution_count": 2,
   "metadata": {},
   "outputs": [
    {
     "name": "stdout",
     "output_type": "stream",
     "text": [
      "A\n",
      "B\n",
      "C\n",
      "1\n",
      "2\n",
      "3\n"
     ]
    }
   ],
   "source": [
    "import itertools\n",
    "for i in itertools.chain(\"ABC\",[1,2,3]):\n",
    "    print(i)"
   ]
  },
  {
   "cell_type": "markdown",
   "metadata": {},
   "source": [
    "#### （2）enumerate(iterable,start=0)----枚举（Python内置）\n",
    "产生由两个元素组成的元组，结构是(index,item),其中index是从start开始，item是从iterable中提取"
   ]
  },
  {
   "cell_type": "code",
   "execution_count": 3,
   "metadata": {},
   "outputs": [
    {
     "name": "stdout",
     "output_type": "stream",
     "text": [
      "(1, 'P')\n",
      "(2, 'y')\n",
      "(3, 't')\n",
      "(4, 'h')\n",
      "(5, 'o')\n",
      "(6, 'n')\n"
     ]
    }
   ],
   "source": [
    "for i in enumerate(\"Python\",start=1):\n",
    "    print(i)"
   ]
  },
  {
   "cell_type": "markdown",
   "metadata": {},
   "source": [
    "#### （3）groupby(iterable,key=None)----分组\n",
    "创建一个迭代器，按照key指定的方式返回iterable中连续的键和组，一般来说，要预先对数据进行排序，key为None默认吧连续重复元素进行分组"
   ]
  },
  {
   "cell_type": "code",
   "execution_count": 4,
   "metadata": {},
   "outputs": [
    {
     "name": "stdout",
     "output_type": "stream",
     "text": [
      "A ['A', 'A', 'A', 'A']\n",
      "B ['B', 'B', 'B', 'B']\n",
      "C ['C', 'C']\n",
      "D ['D']\n",
      "A ['A', 'A']\n",
      "B ['B', 'B']\n"
     ]
    }
   ],
   "source": [
    "for key,group in itertools.groupby(\"AAAABBBBCCDAABB\"):\n",
    "    print(key,list(group))"
   ]
  },
  {
   "cell_type": "code",
   "execution_count": 5,
   "metadata": {},
   "outputs": [
    {
     "data": {
      "text/plain": [
       "itertools._grouper"
      ]
     },
     "execution_count": 5,
     "metadata": {},
     "output_type": "execute_result"
    }
   ],
   "source": [
    "type(group)"
   ]
  },
  {
   "cell_type": "code",
   "execution_count": 6,
   "metadata": {},
   "outputs": [
    {
     "name": "stdout",
     "output_type": "stream",
     "text": [
      "['rat', 'bat', 'duck', 'bear', 'lion', 'eagle', 'shark', 'giraffe', 'dolphin']\n"
     ]
    }
   ],
   "source": [
    "animals = [\"duck\",\"eagle\",\"rat\",\"giraffe\",\"bear\",\"bat\",\"dolphin\",\"shark\",\"lion\"]\n",
    "animals.sort(key=len)\n",
    "print(animals)"
   ]
  },
  {
   "cell_type": "code",
   "execution_count": 7,
   "metadata": {},
   "outputs": [
    {
     "name": "stdout",
     "output_type": "stream",
     "text": [
      "3 ['rat', 'bat']\n",
      "4 ['duck', 'bear', 'lion']\n",
      "5 ['eagle', 'shark']\n",
      "7 ['giraffe', 'dolphin']\n"
     ]
    }
   ],
   "source": [
    "for key, group in itertools.groupby(animals,key=len):\n",
    "    print(key,list(group))"
   ]
  },
  {
   "cell_type": "code",
   "execution_count": 8,
   "metadata": {},
   "outputs": [
    {
     "name": "stdout",
     "output_type": "stream",
     "text": [
      "['bear', 'bat', 'duck', 'dolphin', 'eagle', 'giraffe', 'lion', 'rat', 'shark']\n"
     ]
    }
   ],
   "source": [
    "animals = [\"duck\",\"eagle\",\"rat\",\"giraffe\",\"bear\",\"bat\",\"dolphin\",\"shark\",\"lion\"]\n",
    "animals.sort(key=lambda x:x[0])\n",
    "print(animals)"
   ]
  },
  {
   "cell_type": "code",
   "execution_count": 9,
   "metadata": {
    "scrolled": true
   },
   "outputs": [
    {
     "name": "stdout",
     "output_type": "stream",
     "text": [
      "b ['bear', 'bat']\n",
      "d ['duck', 'dolphin']\n",
      "e ['eagle']\n",
      "g ['giraffe']\n",
      "l ['lion']\n",
      "r ['rat']\n",
      "s ['shark']\n"
     ]
    }
   ],
   "source": [
    "for key, group in itertools.groupby(animals,key=lambda x:x[0]):\n",
    "    print(key,list(group))"
   ]
  }
 ],
 "metadata": {
  "kernelspec": {
   "display_name": "Python 3",
   "language": "python",
   "name": "python3"
  },
  "language_info": {
   "codemirror_mode": {
    "name": "ipython",
    "version": 3
   },
   "file_extension": ".py",
   "mimetype": "text/x-python",
   "name": "python",
   "nbconvert_exporter": "python",
   "pygments_lexer": "ipython3",
   "version": "3.6.3"
  }
 },
 "nbformat": 4,
 "nbformat_minor": 2
}
